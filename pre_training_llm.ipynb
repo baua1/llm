{
  "nbformat": 4,
  "nbformat_minor": 0,
  "metadata": {
    "colab": {
      "provenance": [],
      "authorship_tag": "ABX9TyNk/NK9w1ucfqCxsPtZaZD0",
      "include_colab_link": true
    },
    "kernelspec": {
      "name": "python3",
      "display_name": "Python 3"
    },
    "language_info": {
      "name": "python"
    }
  },
  "cells": [
    {
      "cell_type": "markdown",
      "metadata": {
        "id": "view-in-github",
        "colab_type": "text"
      },
      "source": [
        "<a href=\"https://colab.research.google.com/github/baua1/llm/blob/main/pre_training_llm.ipynb\" target=\"_parent\"><img src=\"https://colab.research.google.com/assets/colab-badge.svg\" alt=\"Open In Colab\"/></a>"
      ]
    },
    {
      "cell_type": "code",
      "execution_count": 3,
      "metadata": {
        "id": "qDUfDaJbl2xm"
      },
      "outputs": [],
      "source": [
        "import torch\n",
        "from torch import nn\n",
        "from torch.nn import functional as F\n",
        "\n",
        "import numpy as np\n",
        "import pandas as pd"
      ]
    },
    {
      "cell_type": "code",
      "source": [
        "class GPT(nn.Module):\n",
        "\n",
        "  \"\"\"\n",
        "  cfg['vocab_size'] = the size if the vocabulary. That is how many tokens are present in the whole dataset.\n",
        "\n",
        "  \"\"\"\n",
        "\n",
        "  def __init__(self, cfg):\n",
        "    super().__init__()\n",
        "    self.token_embeddings = nn.Embedding(cfg['vocab_size'], cfg['embd_dim'])\n",
        "    self.pos_embeddings = nn.Embedding(cfg['context_length'], cfg['emb_dim'])\n",
        "    self.drop_embeddings = nn.Embedding(cfg['drop_rate'])\n",
        "\n",
        "    self.transformer_block = nn.Sequential(*[TransformerBlock(cfg) for _ in range(cfg['n_layers'])])\n",
        "\n",
        "    self.final_norm = LayerNorm(cfg['embd_dim'])\n",
        "    self.output_head = nn.Linear(cfg['embd_dim'], cfg['vocab_size'], bias=False)\n",
        "\n",
        "\n",
        "  def forward(self,input_idx):\n",
        "\n",
        "    batch_size, seq_len = input_idx.shape\n",
        "    token_embeddings = self.token_embeddings(input_idx)\n",
        "    position_embedding = self.pos_embeddings(torch.arange(seq_len, device=input_idx.device))\n",
        "    x = token_embeddings + position_embedding\n",
        "    x = self.drop(x)\n",
        "    x = self.transformer_block(x)\n",
        "    x = self.final_norm(x)\n",
        "    logits = self.output_head(x)\n",
        "\n",
        "\n",
        "    return logits\n",
        "\n",
        "\n"
      ],
      "metadata": {
        "id": "oIe6USjenaWW"
      },
      "execution_count": null,
      "outputs": []
    }
  ]
}