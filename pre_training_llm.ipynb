{
  "nbformat": 4,
  "nbformat_minor": 0,
  "metadata": {
    "colab": {
      "provenance": [],
      "authorship_tag": "ABX9TyONC5X9RFOUDLfqncKJPtp5",
      "include_colab_link": true
    },
    "kernelspec": {
      "name": "python3",
      "display_name": "Python 3"
    },
    "language_info": {
      "name": "python"
    }
  },
  "cells": [
    {
      "cell_type": "markdown",
      "metadata": {
        "id": "view-in-github",
        "colab_type": "text"
      },
      "source": [
        "<a href=\"https://colab.research.google.com/github/baua1/llm/blob/main/pre_training_llm.ipynb\" target=\"_parent\"><img src=\"https://colab.research.google.com/assets/colab-badge.svg\" alt=\"Open In Colab\"/></a>"
      ]
    },
    {
      "cell_type": "code",
      "execution_count": 1,
      "metadata": {
        "id": "qDUfDaJbl2xm"
      },
      "outputs": [],
      "source": [
        "import torch\n",
        "from torch import nn\n",
        "from torch.nn import functional as F\n",
        "\n",
        "import numpy as np\n",
        "import pandas as pd"
      ]
    },
    {
      "cell_type": "code",
      "source": [
        "A = torch.randn(1, 64, 1152, 1, 8)\n",
        "B = torch.randn(10, 1, 1152, 8, 16)\n",
        "\n",
        "C = A @ B\n",
        "print(C.size())"
      ],
      "metadata": {
        "colab": {
          "base_uri": "https://localhost:8080/"
        },
        "id": "4XsI-q-IqOLU",
        "outputId": "3098c91e-2444-4dde-ad02-f3bb10729fd6"
      },
      "execution_count": 4,
      "outputs": [
        {
          "output_type": "stream",
          "name": "stdout",
          "text": [
            "torch.Size([10, 64, 1152, 1, 16])\n"
          ]
        }
      ]
    },
    {
      "cell_type": "code",
      "source": [
        "class MultiHeadAttention(nn.Module):\n",
        "  def __init__(self, d_in, d_out, context_length, dropout, num_heads, qkv_bias=False):\n",
        "    super().__init__()\n",
        "    assert d_out % num_heads == 0, \"d_out must be divisible by num_heads\"\n",
        "\n",
        "    self.d_out = d_out\n",
        "    self.num_heads = num_heads\n",
        "    self.head_dim = d_out // num_heads\n",
        "\n",
        "    self.W_query = nn.Linear(d_in, d_out, bias=qkv_bias)\n",
        "    self.W_key = nn.Linear(d_in, d_out, bias=qkv_bias)\n",
        "    self.W_value = nn.Linear(d_in, d_out, bias=qkv_bias)\n",
        "    self.out_proj = nn.Linear(d_out, d_out)\n",
        "    self.dropout  = nn.Dropout\n",
        "    self.register_buffer(\"mask\", torch.triu(torch.ones(context_length, context_length), diagnol=1))\n",
        "\n",
        "  def forward(self,x):\n",
        "    b, num_token, d_in = x.shape\n",
        "\n",
        "    keys = self.W_key(x)\n",
        "    queries = self.W_query(x)\n",
        "    values = self.W_value(x)\n",
        "\n",
        "    keys = keys.view(b, num_token, self.num_heads, self.head_dim)\n",
        "    values = values.view(b, num_token, self.num_heads, self.head_dim)\n",
        "    queries = queries.view(b, num_token, self.num_heads, self.head_dim)\n",
        "\n",
        "    keys = keys.transpose(1,2)\n",
        "    queries = queries.transpose(1,2)\n",
        "    values = queries.transpose(1,2)\n",
        "\n",
        "    attn_scores = queries @ keys.transpose(2,3)\n",
        "\n",
        "    mask_bool = self.mask.bool()[:num_token, :num_token]\n",
        "\n",
        "    attn_scores.masked_fill_(mask_bool, -torch.inf)\n",
        "\n",
        "    attn_weights = torch.softmax(attn_scores / keys.shape[-1]**0.5, dim=-1)\n",
        "    attn_weights = self.dropout(attn_weights)\n",
        "\n",
        "    context_vec = (attn_weights @ values).transpose(1,2)\n",
        "\n",
        "    context_vec = context_vec.contiguous().view(b, num_token, self.d_out)\n",
        "    context_vec = self.out_proj(context_vec)\n",
        "\n",
        "    return context_vec\n",
        "\n"
      ],
      "metadata": {
        "id": "I2fD4LLlTC4A"
      },
      "execution_count": null,
      "outputs": []
    },
    {
      "cell_type": "code",
      "source": [
        "class LayerNorm(nn.Module):\n",
        "  def __init__(self, emb_dim):\n",
        "    super().__init__()\n",
        "    self.eps = 1e-5\n",
        "    self.scale = nn.Parameter(torch.ones(emb_dim))\n",
        "    self.shift = nn.Parameter(torch.zeros(emb_dim))\n",
        "\n",
        "  def forward(self, x):\n",
        "\n",
        "    mean = x.mean(dim=-1,keepdim=True)\n",
        "    variance = x.var(dim=-1, keepdim=True, unbiased=False)\n",
        "    norm_x = (x - mean) / torch.sqrt(variance + self.eps)\n",
        "\n",
        "    return self.scale*norm_x + self.shift"
      ],
      "metadata": {
        "id": "3Y6m-jBUqM0W"
      },
      "execution_count": null,
      "outputs": []
    },
    {
      "cell_type": "code",
      "source": [
        "class GPT(nn.Module):\n",
        "\n",
        "  \"\"\"\n",
        "  cfg['vocab_size'] = the size if the vocabulary. That is how many tokens are present in the whole dataset.\n",
        "\n",
        "  \"\"\"\n",
        "\n",
        "  def __init__(self, cfg):\n",
        "    super().__init__()\n",
        "    self.token_embeddings = nn.Embedding(cfg['vocab_size'], cfg['embd_dim'])\n",
        "    self.pos_embeddings = nn.Embedding(cfg['context_length'], cfg['emb_dim'])\n",
        "    self.drop_embeddings = nn.Embedding(cfg['drop_rate'])\n",
        "\n",
        "    self.transformer_block = nn.Sequential(*[TransformerBlock(cfg) for _ in range(cfg['n_layers'])])\n",
        "\n",
        "    self.final_norm = LayerNorm(cfg['embd_dim'])\n",
        "    self.output_head = nn.Linear(cfg['embd_dim'], cfg['vocab_size'], bias=False)\n",
        "\n",
        "\n",
        "  def forward(self,input_idx):\n",
        "\n",
        "    batch_size, seq_len = input_idx.shape\n",
        "    token_embeddings = self.token_embeddings(input_idx)\n",
        "    position_embedding = self.pos_embeddings(torch.arange(seq_len, device=input_idx.device))\n",
        "    x = token_embeddings + position_embedding\n",
        "    x = self.drop(x)\n",
        "    x = self.transformer_block(x)\n",
        "    x = self.final_norm(x)\n",
        "    logits = self.output_head(x)\n",
        "\n",
        "\n",
        "    return logits\n",
        "\n",
        "\n"
      ],
      "metadata": {
        "id": "oIe6USjenaWW"
      },
      "execution_count": null,
      "outputs": []
    }
  ]
}